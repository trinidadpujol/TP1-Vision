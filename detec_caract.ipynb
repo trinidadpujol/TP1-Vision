{
 "cells": [
  {
   "cell_type": "code",
   "execution_count": 132,
   "metadata": {},
   "outputs": [],
   "source": [
    "import cv2\n",
    "import matplotlib.pyplot as plt\n",
    "import numpy as np"
   ]
  },
  {
   "cell_type": "code",
   "execution_count": 133,
   "metadata": {},
   "outputs": [],
   "source": [
    "cuadro0 = cv2.imread('img/cuadro_0.jpg', cv2.IMREAD_GRAYSCALE)\n",
    "cuadro1 = cv2.imread('img/cuadro_1.jpg', cv2.IMREAD_GRAYSCALE)   # imagen ancla\n",
    "cuadro2 = cv2.imread('img/cuadro_2.jpg', cv2.IMREAD_GRAYSCALE)\n",
    "\n",
    "udesa0 = cv2.imread('img/udesa_0.jpg', cv2.IMREAD_GRAYSCALE)\n",
    "udesa1 = cv2.imread('img/udesa_1.jpg', cv2.IMREAD_GRAYSCALE)  # imagen ancla\n",
    "udesa2 = cv2.imread('img/udesa_2.jpg', cv2.IMREAD_GRAYSCALE)"
   ]
  },
  {
   "cell_type": "markdown",
   "metadata": {},
   "source": [
    " Detección y descripción de características visuales con SIFT aplicando ANMS"
   ]
  },
  {
   "cell_type": "code",
   "execution_count": 134,
   "metadata": {},
   "outputs": [],
   "source": [
    "\n",
    "def apply_ANMS(keypoints, descriptors, N=200, c=0.9):\n",
    "    response = np.array([kp.response for kp in keypoints])\n",
    "    coords = np.array([kp.pt for kp in keypoints])\n",
    "    radii = np.full(len(keypoints), np.inf)\n",
    "\n",
    "    for i, kp1 in enumerate(keypoints):\n",
    "        dists = np.linalg.norm(coords - coords[i], axis=1)\n",
    "        mask = response > response[i] * c\n",
    "        valid_dists = dists[mask]\n",
    "        if len(valid_dists) > 0:\n",
    "            radii[i] = valid_dists.min()\n",
    "\n",
    "    indices = np.argsort(radii)[:N]\n",
    "    filtered_keypoints = [keypoints[i] for i in indices]\n",
    "    filtered_descriptors = descriptors[indices]\n",
    "\n",
    "    return filtered_keypoints, filtered_descriptors"
   ]
  },
  {
   "cell_type": "code",
   "execution_count": 135,
   "metadata": {},
   "outputs": [],
   "source": [
    "# Inicializamos SIFT\n",
    "sift = cv2.SIFT_create()\n",
    "\n",
    "def process_images(image1, image_anchor, N=200, ratio_threshold=0.75):\n",
    "\n",
    "    #Redimensionar imagenes para ver si corre\n",
    "    #image1 = cv2.resize(image1, (800, 600))\n",
    "    #image_anchor = cv2.resize(image_anchor, (800, 600))\n",
    "    \n",
    "    # Keypoints y descriptores\n",
    "    keypoints1, descriptors1 = sift.detectAndCompute(image1, None)\n",
    "    keypoints_anchor, descriptors_anchor = sift.detectAndCompute(image_anchor, None)\n",
    "\n",
    "    # Aplicamos ANMS a ambos conjuntos de puntos clave\n",
    "    keypoints1, descriptors1 = apply_ANMS(keypoints1, descriptors1, N)\n",
    "    keypoints_anchor, descriptors_anchor = apply_ANMS(keypoints_anchor, descriptors_anchor, N)\n",
    "\n",
    "    # Flann Based Matcher\n",
    "    index_params = dict(algorithm=1, trees=5)\n",
    "    search_params = dict(checks=50)  \n",
    "    flann = cv2.FlannBasedMatcher(index_params, search_params)\n",
    "\n",
    "    # Hacer coincidir descriptores\n",
    "    initial_matches = flann.knnMatch(descriptors1, descriptors_anchor, k=2)\n",
    "\n",
    "    # Aplicamos la prueba de Lowe y la verificación cruzada\n",
    "    good_matches = []\n",
    "    for m, n in initial_matches:\n",
    "        # Prueba de Lowe: distancia de m debe ser suficientemente menor que la distancia de n\n",
    "        if m.distance < ratio_threshold * n.distance:\n",
    "            # Verificación cruzada \n",
    "            reciprocal_matches = flann.knnMatch(descriptors_anchor[n.trainIdx].reshape(1, -1), descriptors1, k=1)\n",
    "            if len(reciprocal_matches) == 1 and reciprocal_matches[0][0].trainIdx == m.queryIdx:\n",
    "                good_matches.append(m)\n",
    "    \n",
    "    print(f\"Total coincidencias: {len(good_matches)}\")  # Debugging: imprime el número de coincidencias buenas\n",
    "\n",
    "    img_matches = cv2.drawMatches(image1, keypoints1, image_anchor, keypoints_anchor, good_matches, None, flags=cv2.DrawMatchesFlags_NOT_DRAW_SINGLE_POINTS)\n",
    "    \n",
    "    return img_matches"
   ]
  },
  {
   "cell_type": "code",
   "execution_count": 136,
   "metadata": {},
   "outputs": [
    {
     "name": "stdout",
     "output_type": "stream",
     "text": [
      "Total coincidencias: 0\n",
      "Total coincidencias: 0\n"
     ]
    },
    {
     "ename": "KeyboardInterrupt",
     "evalue": "",
     "output_type": "error",
     "traceback": [
      "\u001b[1;31m---------------------------------------------------------------------------\u001b[0m",
      "\u001b[1;31mKeyboardInterrupt\u001b[0m                         Traceback (most recent call last)",
      "Cell \u001b[1;32mIn[136], line 3\u001b[0m\n\u001b[0;32m      1\u001b[0m cuadro_matches_0 \u001b[38;5;241m=\u001b[39m process_images(cuadro0, cuadro1)\n\u001b[0;32m      2\u001b[0m cuadro_matches_2 \u001b[38;5;241m=\u001b[39m process_images(cuadro2, cuadro1)\n\u001b[1;32m----> 3\u001b[0m udesa_matches_0 \u001b[38;5;241m=\u001b[39m \u001b[43mprocess_images\u001b[49m\u001b[43m(\u001b[49m\u001b[43mudesa0\u001b[49m\u001b[43m,\u001b[49m\u001b[43m \u001b[49m\u001b[43mudesa1\u001b[49m\u001b[43m)\u001b[49m\n\u001b[0;32m      4\u001b[0m udesa_matches_2 \u001b[38;5;241m=\u001b[39m process_images(udesa2, udesa1)\n\u001b[0;32m      6\u001b[0m plt\u001b[38;5;241m.\u001b[39mfigure(figsize\u001b[38;5;241m=\u001b[39m(\u001b[38;5;241m10\u001b[39m, \u001b[38;5;241m5\u001b[39m))\n",
      "Cell \u001b[1;32mIn[135], line 7\u001b[0m, in \u001b[0;36mprocess_images\u001b[1;34m(image1, image_anchor, N, ratio_threshold)\u001b[0m\n\u001b[0;32m      4\u001b[0m \u001b[38;5;28;01mdef\u001b[39;00m \u001b[38;5;21mprocess_images\u001b[39m(image1, image_anchor, N\u001b[38;5;241m=\u001b[39m\u001b[38;5;241m200\u001b[39m, ratio_threshold\u001b[38;5;241m=\u001b[39m\u001b[38;5;241m0.75\u001b[39m):\n\u001b[0;32m      5\u001b[0m \n\u001b[0;32m      6\u001b[0m     \u001b[38;5;66;03m# Keypoints y descriptores\u001b[39;00m\n\u001b[1;32m----> 7\u001b[0m     keypoints1, descriptors1 \u001b[38;5;241m=\u001b[39m \u001b[43msift\u001b[49m\u001b[38;5;241;43m.\u001b[39;49m\u001b[43mdetectAndCompute\u001b[49m\u001b[43m(\u001b[49m\u001b[43mimage1\u001b[49m\u001b[43m,\u001b[49m\u001b[43m \u001b[49m\u001b[38;5;28;43;01mNone\u001b[39;49;00m\u001b[43m)\u001b[49m\n\u001b[0;32m      8\u001b[0m     keypoints_anchor, descriptors_anchor \u001b[38;5;241m=\u001b[39m sift\u001b[38;5;241m.\u001b[39mdetectAndCompute(image_anchor, \u001b[38;5;28;01mNone\u001b[39;00m)\n\u001b[0;32m     10\u001b[0m     \u001b[38;5;66;03m# Aplicamos ANMS a ambos conjuntos de puntos clave\u001b[39;00m\n",
      "\u001b[1;31mKeyboardInterrupt\u001b[0m: "
     ]
    }
   ],
   "source": [
    "\n",
    "cuadro_matches_0 = process_images(cuadro0, cuadro1)\n",
    "cuadro_matches_2 = process_images(cuadro2, cuadro1)\n",
    "udesa_matches_0 = process_images(udesa0, udesa1)\n",
    "udesa_matches_2 = process_images(udesa2, udesa1)\n",
    "\n",
    "plt.figure(figsize=(10, 5))\n",
    "plt.subplot(2, 2, 1)\n",
    "plt.imshow(cuadro_matches_0, cmap='gray')\n",
    "plt.title('Cuadro 0 - Ancla')\n",
    "\n",
    "plt.subplot(2, 2, 2)\n",
    "plt.imshow(cuadro_matches_2, cmap='gray')\n",
    "plt.title('Cuadro 2 - Ancla')\n",
    "\n",
    "plt.subplot(2, 2, 3)\n",
    "plt.imshow(udesa_matches_0, cmap='gray')\n",
    "plt.title('Udesa 0 - Ancla')\n",
    "\n",
    "plt.subplot(2, 2, 4)\n",
    "plt.imshow(udesa_matches_2, cmap='gray')\n",
    "plt.title('Udesa 2 - Ancla')\n",
    "\n",
    "plt.tight_layout()\n",
    "plt.show()"
   ]
  }
 ],
 "metadata": {
  "kernelspec": {
   "display_name": "Python 3",
   "language": "python",
   "name": "python3"
  },
  "language_info": {
   "codemirror_mode": {
    "name": "ipython",
    "version": 3
   },
   "file_extension": ".py",
   "mimetype": "text/x-python",
   "name": "python",
   "nbconvert_exporter": "python",
   "pygments_lexer": "ipython3",
   "version": "3.9.13"
  }
 },
 "nbformat": 4,
 "nbformat_minor": 2
}
